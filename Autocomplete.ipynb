{
 "cells": [
  {
   "cell_type": "code",
   "execution_count": 4,
   "metadata": {},
   "outputs": [],
   "source": [
    "excercise_dict={\n",
    "   \"squat\":\n",
    "    {\n",
    "        \n",
    "        \"knee\":\n",
    "        {\n",
    "            \"extension\":\"\",\n",
    "            \"flexion\":\"bend\",\n",
    "             \"hFlexion\":\"\",\n",
    "            \"abduction\":\"\",\n",
    "            \"angle1\":20,\n",
    "            \"angle2\":160\n",
    "            \n",
    "        }     \n",
    "        \n",
    "    },\n",
    "    \"sumosquat\":\n",
    "    {\n",
    "        \n",
    "        \"knee\":\n",
    "        {\n",
    "            \"extension\":\"\",\n",
    "            \"flexion\":\"bend\",\n",
    "            \"hFlexion\":\"\",\n",
    "            \"abduction\":\"\",\n",
    "            \"angle1\":75,\n",
    "            \"angle2\":180\n",
    "            \n",
    "        }     \n",
    "        \n",
    "    },\n",
    "    \n",
    "    \"sidekick\":\n",
    "    {\n",
    "        \n",
    "        \"rhip\":\n",
    "        {\n",
    "            \"extension\":\"\",\n",
    "            \"flexion\":\"\",\n",
    "             \"hFlexion\":\"\",\n",
    "            \"abduction\":\"move\",\n",
    "            \"angle1\":90,\n",
    "            \"angle2\":180\n",
    "            \n",
    "        }     \n",
    "        \n",
    "    },\n",
    "     \"shoulderpress\":\n",
    "    {\n",
    "        \n",
    "        \"shoulder\":\n",
    "        {\n",
    "            \"extension\":\"straighten\",\n",
    "            \"flexion\":\"\",\n",
    "             \"hFlexion\":\"\",\n",
    "            \"abduction\":\"\",\n",
    "            \"angle1\":90,\n",
    "            \"angle2\":180\n",
    "            \n",
    "        }     \n",
    "        \n",
    "    },\n",
    "     \"benchpress\":\n",
    "    {\n",
    "        \n",
    "        \"shoulder\":\n",
    "        {\n",
    "            \"extension\":\"\",\n",
    "            \"flexion\":\"\",\n",
    "             \"hflexion\":\"push\",\n",
    "            \"abduction\":\"\",\n",
    "            \"angle1\":45,\n",
    "            \"angle2\":90\n",
    "            \n",
    "        }     \n",
    "        \n",
    "    }  \n",
    "}"
   ]
  },
  {
   "cell_type": "code",
   "execution_count": 17,
   "metadata": {},
   "outputs": [
    {
     "name": "stdout",
     "output_type": "stream",
     "text": [
      "\n",
      "\n",
      "push\n",
      "\n",
      "45\n",
      "90\n"
     ]
    }
   ],
   "source": [
    "for x in excercise_dict[\"benchpress\"][\"shoulder\"].values():\n",
    "    print(x)"
   ]
  },
  {
   "cell_type": "code",
   "execution_count": 14,
   "metadata": {},
   "outputs": [],
   "source": [
    "import pandas as pd"
   ]
  },
  {
   "cell_type": "code",
   "execution_count": 29,
   "metadata": {},
   "outputs": [],
   "source": [
    "def keygenerator(data):\n",
    "    angle=data[0]\n",
    "    joint=data[1]\n",
    "    excercise=data[2]\n",
    "    if angle<excercise_dict[excercise][joint][\"angle1\"] or angle>excercise_dict[excercise][joint][\"angle1\"]:\n",
    "        if angle<excercise_dict[excercise][joint][\"angle1\"]: \n",
    "            keywords=\"straighten \"+joint\n",
    "        else:\n",
    "            keywords=\"bend \"+joint\n",
    "    else:\n",
    "        keywords=\"good work\"\n",
    "        \n",
    "    return keywords\n",
    "    "
   ]
  },
  {
   "cell_type": "code",
   "execution_count": null,
   "metadata": {},
   "outputs": [],
   "source": [
    "def keywordgen(data):\n",
    "    angle=data[0]\n",
    "    joint=data[1]\n",
    "    excercise=data[2]\n",
    "    if angle>excercise_dict[excercise][joint][\"angle1\"]:\n",
    "        keyword= joint+\" \"+str(excercise_dict[excercise][joint][x] for x in \n",
    "    \n",
    "    "
   ]
  },
  {
   "cell_type": "markdown",
   "metadata": {},
   "source": [
    "# Loading"
   ]
  },
  {
   "cell_type": "code",
   "execution_count": 19,
   "metadata": {},
   "outputs": [],
   "source": [
    "import autocompleter \n",
    "autocompl = autocompleter.Autocompleter()"
   ]
  },
  {
   "cell_type": "code",
   "execution_count": 34,
   "metadata": {},
   "outputs": [
    {
     "name": "stdout",
     "output_type": "stream",
     "text": [
      "load json file...\n",
      "(19, 3)\n"
     ]
    },
    {
     "name": "stderr",
     "output_type": "stream",
     "text": [
      "C:\\Users\\chaku\\TEXT COMPLETION NLP\\autocompleter.py:23: FutureWarning: pandas.io.json.json_normalize is deprecated, use pandas.json_normalize instead\n",
      "  column_as_df = json_normalize(df[column])\n"
     ]
    },
    {
     "data": {
      "text/plain": [
       "((19, 3), Index(['IsFromCustomer', 'Text', 'index'], dtype='object'))"
      ]
     },
     "execution_count": 34,
     "metadata": {},
     "output_type": "execute_result"
    }
   ],
   "source": [
    "df = autocompl.import_json(\"sample-test.json\")\n",
    "df.shape, df.columns"
   ]
  },
  {
   "cell_type": "markdown",
   "metadata": {},
   "source": [
    "The file contains 22K conversations between a customer and a representative.\n",
    "For the purpose of this project, we are only interested in completing the threads of the representative."
   ]
  },
  {
   "cell_type": "code",
   "execution_count": 35,
   "metadata": {},
   "outputs": [
    {
     "data": {
      "text/html": [
       "<div>\n",
       "<style scoped>\n",
       "    .dataframe tbody tr th:only-of-type {\n",
       "        vertical-align: middle;\n",
       "    }\n",
       "\n",
       "    .dataframe tbody tr th {\n",
       "        vertical-align: top;\n",
       "    }\n",
       "\n",
       "    .dataframe thead th {\n",
       "        text-align: right;\n",
       "    }\n",
       "</style>\n",
       "<table border=\"1\" class=\"dataframe\">\n",
       "  <thead>\n",
       "    <tr style=\"text-align: right;\">\n",
       "      <th></th>\n",
       "      <th>IsFromCustomer</th>\n",
       "      <th>Text</th>\n",
       "      <th>index</th>\n",
       "    </tr>\n",
       "  </thead>\n",
       "  <tbody>\n",
       "    <tr>\n",
       "      <th>0</th>\n",
       "      <td>False</td>\n",
       "      <td>well done continue your excercise</td>\n",
       "      <td>0</td>\n",
       "    </tr>\n",
       "    <tr>\n",
       "      <th>1</th>\n",
       "      <td>False</td>\n",
       "      <td>perfectly done continue excercise</td>\n",
       "      <td>0</td>\n",
       "    </tr>\n",
       "    <tr>\n",
       "      <th>2</th>\n",
       "      <td>False</td>\n",
       "      <td>good work continue excercise</td>\n",
       "      <td>0</td>\n",
       "    </tr>\n",
       "    <tr>\n",
       "      <th>3</th>\n",
       "      <td>False</td>\n",
       "      <td>for bicepcurl angle less for backbone PLease k...</td>\n",
       "      <td>0</td>\n",
       "    </tr>\n",
       "    <tr>\n",
       "      <th>4</th>\n",
       "      <td>False</td>\n",
       "      <td>for lunges angle less for backbone PLease kee...</td>\n",
       "      <td>0</td>\n",
       "    </tr>\n",
       "    <tr>\n",
       "      <th>5</th>\n",
       "      <td>False</td>\n",
       "      <td>angle less for legs</td>\n",
       "      <td>0</td>\n",
       "    </tr>\n",
       "    <tr>\n",
       "      <th>6</th>\n",
       "      <td>False</td>\n",
       "      <td>angle less for hand</td>\n",
       "      <td>0</td>\n",
       "    </tr>\n",
       "    <tr>\n",
       "      <th>7</th>\n",
       "      <td>False</td>\n",
       "      <td>angle less for hand PLease keep your arms stra...</td>\n",
       "      <td>0</td>\n",
       "    </tr>\n",
       "    <tr>\n",
       "      <th>8</th>\n",
       "      <td>False</td>\n",
       "      <td>angle good for arms</td>\n",
       "      <td>0</td>\n",
       "    </tr>\n",
       "    <tr>\n",
       "      <th>9</th>\n",
       "      <td>False</td>\n",
       "      <td>for bicepcurl angle less for neck PLease keep ...</td>\n",
       "      <td>0</td>\n",
       "    </tr>\n",
       "  </tbody>\n",
       "</table>\n",
       "</div>"
      ],
      "text/plain": [
       "   IsFromCustomer                                               Text  index\n",
       "0           False                  well done continue your excercise      0\n",
       "1           False                  perfectly done continue excercise      0\n",
       "2           False                       good work continue excercise      0\n",
       "3           False  for bicepcurl angle less for backbone PLease k...      0\n",
       "4           False   for lunges angle less for backbone PLease kee...      0\n",
       "5           False                                angle less for legs      0\n",
       "6           False                                angle less for hand      0\n",
       "7           False  angle less for hand PLease keep your arms stra...      0\n",
       "8           False                                angle good for arms      0\n",
       "9           False  for bicepcurl angle less for neck PLease keep ...      0"
      ]
     },
     "execution_count": 35,
     "metadata": {},
     "output_type": "execute_result"
    }
   ],
   "source": [
    "\n",
    "df.head(10)"
   ]
  },
  {
   "cell_type": "code",
   "execution_count": 20,
   "metadata": {},
   "outputs": [
    {
     "data": {
      "text/html": [
       "<div>\n",
       "<style scoped>\n",
       "    .dataframe tbody tr th:only-of-type {\n",
       "        vertical-align: middle;\n",
       "    }\n",
       "\n",
       "    .dataframe tbody tr th {\n",
       "        vertical-align: top;\n",
       "    }\n",
       "\n",
       "    .dataframe thead th {\n",
       "        text-align: right;\n",
       "    }\n",
       "</style>\n",
       "<table border=\"1\" class=\"dataframe\">\n",
       "  <thead>\n",
       "    <tr style=\"text-align: right;\">\n",
       "      <th></th>\n",
       "      <th>IsFromCustomer</th>\n",
       "      <th>Text</th>\n",
       "      <th>index</th>\n",
       "    </tr>\n",
       "  </thead>\n",
       "  <tbody>\n",
       "    <tr>\n",
       "      <th>0</th>\n",
       "      <td>False</td>\n",
       "      <td>draw shoulders backwards</td>\n",
       "      <td>0</td>\n",
       "    </tr>\n",
       "    <tr>\n",
       "      <th>1</th>\n",
       "      <td>False</td>\n",
       "      <td>align head backwards</td>\n",
       "      <td>0</td>\n",
       "    </tr>\n",
       "    <tr>\n",
       "      <th>2</th>\n",
       "      <td>False</td>\n",
       "      <td>align head down</td>\n",
       "      <td>0</td>\n",
       "    </tr>\n",
       "    <tr>\n",
       "      <th>3</th>\n",
       "      <td>False</td>\n",
       "      <td>align shoulders backwards</td>\n",
       "      <td>0</td>\n",
       "    </tr>\n",
       "    <tr>\n",
       "      <th>4</th>\n",
       "      <td>False</td>\n",
       "      <td>straighten neck down</td>\n",
       "      <td>0</td>\n",
       "    </tr>\n",
       "    <tr>\n",
       "      <th>...</th>\n",
       "      <td>...</td>\n",
       "      <td>...</td>\n",
       "      <td>...</td>\n",
       "    </tr>\n",
       "    <tr>\n",
       "      <th>95</th>\n",
       "      <td>False</td>\n",
       "      <td>draw ankle upwards</td>\n",
       "      <td>0</td>\n",
       "    </tr>\n",
       "    <tr>\n",
       "      <th>96</th>\n",
       "      <td>False</td>\n",
       "      <td>draw hips</td>\n",
       "      <td>0</td>\n",
       "    </tr>\n",
       "    <tr>\n",
       "      <th>97</th>\n",
       "      <td>False</td>\n",
       "      <td>bend arms backwards</td>\n",
       "      <td>0</td>\n",
       "    </tr>\n",
       "    <tr>\n",
       "      <th>98</th>\n",
       "      <td>False</td>\n",
       "      <td>reach knees away</td>\n",
       "      <td>0</td>\n",
       "    </tr>\n",
       "    <tr>\n",
       "      <th>99</th>\n",
       "      <td>False</td>\n",
       "      <td>draw knees backwards</td>\n",
       "      <td>0</td>\n",
       "    </tr>\n",
       "  </tbody>\n",
       "</table>\n",
       "<p>100 rows × 3 columns</p>\n",
       "</div>"
      ],
      "text/plain": [
       "    IsFromCustomer                       Text  index\n",
       "0            False   draw shoulders backwards      0\n",
       "1            False       align head backwards      0\n",
       "2            False            align head down      0\n",
       "3            False  align shoulders backwards      0\n",
       "4            False       straighten neck down      0\n",
       "..             ...                        ...    ...\n",
       "95           False         draw ankle upwards      0\n",
       "96           False                  draw hips      0\n",
       "97           False        bend arms backwards      0\n",
       "98           False           reach knees away      0\n",
       "99           False       draw knees backwards      0\n",
       "\n",
       "[100 rows x 3 columns]"
      ]
     },
     "execution_count": 20,
     "metadata": {},
     "output_type": "execute_result"
    }
   ],
   "source": [
    "df1=pd.read_csv('presentences3.csv')\n",
    "df1"
   ]
  },
  {
   "cell_type": "markdown",
   "metadata": {},
   "source": [
    "# Data Selection and Cleaning"
   ]
  },
  {
   "cell_type": "markdown",
   "metadata": {},
   "source": [
    "The data is going to separate the threads from the customer and the representative, separate the sentenses based on the punctuation (we will keep the punctuation), the final text will be cleaned up with some light regex and only the sentense larger than 1 word will be kept."
   ]
  },
  {
   "cell_type": "markdown",
   "metadata": {},
   "source": [
    "Finally, since the representative has the tendency to ask the same question over and over again, the autocomplete is extremely useful by suggesting a complete sentense. In our case, we will count the number of occurence of the same sentense so we can use it as a feature later on and delete the duplicates."
   ]
  },
  {
   "cell_type": "code",
   "execution_count": 21,
   "metadata": {},
   "outputs": [
    {
     "name": "stdout",
     "output_type": "stream",
     "text": [
      "select representative threads...\n",
      "split sentenses on punctuation...\n",
      "Text Cleaning using simple regex...\n",
      "calculate nb words of sentenses...\n",
      "count occurence of sentenses...\n",
      "remove duplicates (keep last)...\n",
      "(63, 5)\n"
     ]
    },
    {
     "data": {
      "text/plain": [
       "((63, 5),\n",
       " Index(['IsFromCustomer', 'Text', 'index', 'nb_words', 'Counts'], dtype='object'))"
      ]
     },
     "execution_count": 21,
     "metadata": {},
     "output_type": "execute_result"
    }
   ],
   "source": [
    "new_df = autocompl.process_data(df1)\n",
    "new_df.shape, new_df.columns"
   ]
  },
  {
   "cell_type": "markdown",
   "metadata": {},
   "source": [
    "# Model and TFIDF matrix"
   ]
  },
  {
   "cell_type": "markdown",
   "metadata": {},
   "source": [
    "A matrice of similarity is calculated based on the frequency of all the words in the data using tfidfvectorizer"
   ]
  },
  {
   "cell_type": "code",
   "execution_count": 22,
   "metadata": {},
   "outputs": [
    {
     "name": "stdout",
     "output_type": "stream",
     "text": [
      "tfidf_matrice  (63, 159)\n"
     ]
    }
   ],
   "source": [
    "model_tf, tfidf_matrice = autocompl.calc_matrice(new_df)"
   ]
  },
  {
   "cell_type": "markdown",
   "metadata": {},
   "source": [
    "# Ranking Function"
   ]
  },
  {
   "cell_type": "markdown",
   "metadata": {},
   "source": [
    "Finally, the autocomplete is calculating the similarity between the sentense in the data and the prefix of the sentense written by the representative. As a weight feature, we chose to reorder using the frequency of the most common similar sentense."
   ]
  },
  {
   "cell_type": "markdown",
   "metadata": {},
   "source": [
    "examples of auto completions"
   ]
  },
  {
   "cell_type": "code",
   "execution_count": null,
   "metadata": {},
   "outputs": [],
   "source": []
  },
  {
   "cell_type": "code",
   "execution_count": null,
   "metadata": {},
   "outputs": [],
   "source": []
  },
  {
   "cell_type": "code",
   "execution_count": null,
   "metadata": {},
   "outputs": [],
   "source": []
  },
  {
   "cell_type": "code",
   "execution_count": 25,
   "metadata": {},
   "outputs": [
    {
     "name": "stdout",
     "output_type": "stream",
     "text": [
      "straighten backbone      \n"
     ]
    },
    {
     "data": {
      "text/plain": [
       "'Straighten backbone away'"
      ]
     },
     "execution_count": 25,
     "metadata": {},
     "output_type": "execute_result"
    }
   ],
   "source": [
    "prefix = keygenerator([120,\"backbone\",\"lunges\"])\n",
    "print(prefix,\"     \")\n",
    "autocompl.generate_completions(prefix, new_df, model_tf,tfidf_matrice)[0]"
   ]
  },
  {
   "cell_type": "markdown",
   "metadata": {},
   "source": [
    "Now, without any uppercase and just with the important words..."
   ]
  },
  {
   "cell_type": "code",
   "execution_count": 32,
   "metadata": {},
   "outputs": [
    {
     "name": "stdout",
     "output_type": "stream",
     "text": [
      "bend neck      \n"
     ]
    },
    {
     "data": {
      "text/plain": [
       "'Bend neck upwards'"
      ]
     },
     "execution_count": 32,
     "metadata": {},
     "output_type": "execute_result"
    }
   ],
   "source": [
    "prefix = keygenerator([120,\"neck\",\"bicepcurl\"])\n",
    "print(prefix,\"     \")\n",
    "autocompl.generate_completions(prefix, new_df, model_tf,tfidf_matrice)[0]"
   ]
  },
  {
   "cell_type": "code",
   "execution_count": null,
   "metadata": {},
   "outputs": [],
   "source": []
  },
  {
   "cell_type": "markdown",
   "metadata": {},
   "source": [
    "# Online Sources for this project"
   ]
  },
  {
   "cell_type": "code",
   "execution_count": 11,
   "metadata": {},
   "outputs": [],
   "source": [
    "# https://gist.github.com/jlln/338b4b0b55bd6984f883 modified to keep punctuation\n",
    "# kaggle google store competition for json read\n",
    "# https://www.kaggle.com/hamishdickson/weighted-word-autocomplete-using-star-wars-dataset"
   ]
  },
  {
   "cell_type": "code",
   "execution_count": null,
   "metadata": {},
   "outputs": [],
   "source": []
  },
  {
   "cell_type": "code",
   "execution_count": null,
   "metadata": {},
   "outputs": [],
   "source": []
  },
  {
   "cell_type": "code",
   "execution_count": 12,
   "metadata": {},
   "outputs": [],
   "source": [
    "#"
   ]
  }
 ],
 "metadata": {
  "kernelspec": {
   "display_name": "Python 3",
   "language": "python",
   "name": "python3"
  },
  "language_info": {
   "codemirror_mode": {
    "name": "ipython",
    "version": 3
   },
   "file_extension": ".py",
   "mimetype": "text/x-python",
   "name": "python",
   "nbconvert_exporter": "python",
   "pygments_lexer": "ipython3",
   "version": "3.8.9"
  }
 },
 "nbformat": 4,
 "nbformat_minor": 2
}
