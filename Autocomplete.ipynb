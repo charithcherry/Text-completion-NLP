{
 "cells": [
  {
   "cell_type": "code",
   "execution_count": 1,
   "metadata": {},
   "outputs": [],
   "source": [
    "excercise_dict={\n",
    "   \"squat\":\n",
    "    {\n",
    "        \n",
    "        \"knee\":\n",
    "        {\n",
    "            \"extension\":\"\",\n",
    "            \"flexion\":\"bend\",\n",
    "             \"hFlexion\":\"\",\n",
    "            \"abduction\":\"\",\n",
    "            \"angle1\":20,\n",
    "            \"angle2\":160\n",
    "            \n",
    "        }     \n",
    "        \n",
    "    },\n",
    "    \"sumosquat\":\n",
    "    {\n",
    "        \n",
    "        \"knee\":\n",
    "        {\n",
    "            \"extension\":\"\",\n",
    "            \"flexion\":\"bend\",\n",
    "            \"hFlexion\":\"\",\n",
    "            \"abduction\":\"\",\n",
    "            \"angle1\":75,\n",
    "            \"angle2\":180\n",
    "            \n",
    "        }     \n",
    "        \n",
    "    },\n",
    "    \n",
    "    \"sidekick\":\n",
    "    {\n",
    "        \n",
    "        \"rhip\":\n",
    "        {\n",
    "            \"extension\":\"\",\n",
    "            \"flexion\":\"\",\n",
    "             \"hFlexion\":\"\",\n",
    "            \"abduction\":\"move\",\n",
    "            \"angle1\":90,\n",
    "            \"angle2\":180\n",
    "            \n",
    "        }     \n",
    "        \n",
    "    },\n",
    "     \"shoulderpress\":\n",
    "    {\n",
    "        \n",
    "        \"shoulder\":\n",
    "        {\n",
    "            \"extension\":\"straighten\",\n",
    "            \"flexion\":\"\",\n",
    "             \"hFlexion\":\"\",\n",
    "            \"abduction\":\"\",\n",
    "            \"angle1\":90,\n",
    "            \"angle2\":180\n",
    "            \n",
    "        }     \n",
    "        \n",
    "    },\n",
    "     \"benchpress\":\n",
    "    {\n",
    "        \n",
    "        \"shoulder\":\n",
    "        {\n",
    "            \"extension\":\"\",\n",
    "            \"flexion\":\"\",\n",
    "             \"hflexion\":\"push\",\n",
    "            \"abduction\":\"\",\n",
    "            \"angle1\":45,\n",
    "            \"angle2\":90\n",
    "            \n",
    "        }     \n",
    "        \n",
    "    }  \n",
    "}"
   ]
  },
  {
   "cell_type": "code",
   "execution_count": 2,
   "metadata": {},
   "outputs": [
    {
     "name": "stdout",
     "output_type": "stream",
     "text": [
      "\n",
      "\n",
      "push\n",
      "\n",
      "45\n",
      "90\n"
     ]
    }
   ],
   "source": [
    "for x in excercise_dict[\"benchpress\"][\"shoulder\"].values():\n",
    "    print(x)"
   ]
  },
  {
   "cell_type": "code",
   "execution_count": 2,
   "metadata": {},
   "outputs": [],
   "source": [
    "import pandas as pd"
   ]
  },
  {
   "cell_type": "code",
   "execution_count": 29,
   "metadata": {},
   "outputs": [],
   "source": [
    "def keygenerator(data):\n",
    "    angle=data[0]\n",
    "    joint=data[1]\n",
    "    excercise=data[2]\n",
    "    if angle<excercise_dict[excercise][joint][\"angle1\"] or angle>excercise_dict[excercise][joint][\"angle1\"]:\n",
    "        if angle<excercise_dict[excercise][joint][\"angle1\"]: \n",
    "            keywords=\"straighten \"+joint\n",
    "        else:\n",
    "            keywords=\"bend \"+joint\n",
    "    else:\n",
    "        keywords=\"good work\"\n",
    "        \n",
    "    return keywords\n",
    "    "
   ]
  },
  {
   "cell_type": "code",
   "execution_count": null,
   "metadata": {},
   "outputs": [],
   "source": [
    "def keywordgen(data):\n",
    "    angle=data[0]\n",
    "    joint=data[1]\n",
    "    excercise=data[2]\n",
    "    if angle>excercise_dict[excercise][joint][\"angle1\"]:\n",
    "        keyword= joint+\" \"+str(excercise_dict[excercise][joint][x] for x in \n",
    "                               \n",
    "    \n",
    "    "
   ]
  },
  {
   "cell_type": "markdown",
   "metadata": {},
   "source": [
    "# Loading"
   ]
  },
  {
   "cell_type": "code",
   "execution_count": 3,
   "metadata": {},
   "outputs": [],
   "source": [
    "import autocompleter \n",
    "autocompl = autocompleter.Autocompleter()"
   ]
  },
  {
   "cell_type": "code",
   "execution_count": 3,
   "metadata": {},
   "outputs": [
    {
     "name": "stdout",
     "output_type": "stream",
     "text": [
      "load json file...\n",
      "(19, 3)\n"
     ]
    },
    {
     "name": "stderr",
     "output_type": "stream",
     "text": [
      "C:\\Users\\chari\\Text-completion-NLP\\autocompleter.py:23: FutureWarning: pandas.io.json.json_normalize is deprecated, use pandas.json_normalize instead\n",
      "  column_as_df = json_normalize(df[column])\n"
     ]
    },
    {
     "data": {
      "text/plain": [
       "((19, 3), Index(['IsFromCustomer', 'Text', 'index'], dtype='object'))"
      ]
     },
     "execution_count": 3,
     "metadata": {},
     "output_type": "execute_result"
    }
   ],
   "source": [
    "df = autocompl.import_json(\"sample-test.json\")\n",
    "df.shape, df.columns"
   ]
  },
  {
   "cell_type": "markdown",
   "metadata": {},
   "source": [
    "The file contains 22K conversations between a customer and a representative.\n",
    "For the purpose of this project, we are only interested in completing the threads of the representative."
   ]
  },
  {
   "cell_type": "code",
   "execution_count": 4,
   "metadata": {},
   "outputs": [
    {
     "data": {
      "text/html": [
       "<div>\n",
       "<style scoped>\n",
       "    .dataframe tbody tr th:only-of-type {\n",
       "        vertical-align: middle;\n",
       "    }\n",
       "\n",
       "    .dataframe tbody tr th {\n",
       "        vertical-align: top;\n",
       "    }\n",
       "\n",
       "    .dataframe thead th {\n",
       "        text-align: right;\n",
       "    }\n",
       "</style>\n",
       "<table border=\"1\" class=\"dataframe\">\n",
       "  <thead>\n",
       "    <tr style=\"text-align: right;\">\n",
       "      <th></th>\n",
       "      <th>IsFromCustomer</th>\n",
       "      <th>Text</th>\n",
       "      <th>index</th>\n",
       "    </tr>\n",
       "  </thead>\n",
       "  <tbody>\n",
       "    <tr>\n",
       "      <th>0</th>\n",
       "      <td>False</td>\n",
       "      <td>well done continue your excercise</td>\n",
       "      <td>0</td>\n",
       "    </tr>\n",
       "    <tr>\n",
       "      <th>1</th>\n",
       "      <td>False</td>\n",
       "      <td>perfectly done continue excercise</td>\n",
       "      <td>0</td>\n",
       "    </tr>\n",
       "    <tr>\n",
       "      <th>2</th>\n",
       "      <td>False</td>\n",
       "      <td>good work continue excercise</td>\n",
       "      <td>0</td>\n",
       "    </tr>\n",
       "    <tr>\n",
       "      <th>3</th>\n",
       "      <td>False</td>\n",
       "      <td>for bicepcurl angle less for backbone PLease k...</td>\n",
       "      <td>0</td>\n",
       "    </tr>\n",
       "    <tr>\n",
       "      <th>4</th>\n",
       "      <td>False</td>\n",
       "      <td>for lunges angle less for backbone PLease kee...</td>\n",
       "      <td>0</td>\n",
       "    </tr>\n",
       "    <tr>\n",
       "      <th>5</th>\n",
       "      <td>False</td>\n",
       "      <td>angle less for legs</td>\n",
       "      <td>0</td>\n",
       "    </tr>\n",
       "    <tr>\n",
       "      <th>6</th>\n",
       "      <td>False</td>\n",
       "      <td>angle less for hand</td>\n",
       "      <td>0</td>\n",
       "    </tr>\n",
       "    <tr>\n",
       "      <th>7</th>\n",
       "      <td>False</td>\n",
       "      <td>angle less for hand PLease keep your arms stra...</td>\n",
       "      <td>0</td>\n",
       "    </tr>\n",
       "    <tr>\n",
       "      <th>8</th>\n",
       "      <td>False</td>\n",
       "      <td>angle good for arms</td>\n",
       "      <td>0</td>\n",
       "    </tr>\n",
       "    <tr>\n",
       "      <th>9</th>\n",
       "      <td>False</td>\n",
       "      <td>for bicepcurl angle less for neck PLease keep ...</td>\n",
       "      <td>0</td>\n",
       "    </tr>\n",
       "  </tbody>\n",
       "</table>\n",
       "</div>"
      ],
      "text/plain": [
       "   IsFromCustomer                                               Text  index\n",
       "0           False                  well done continue your excercise      0\n",
       "1           False                  perfectly done continue excercise      0\n",
       "2           False                       good work continue excercise      0\n",
       "3           False  for bicepcurl angle less for backbone PLease k...      0\n",
       "4           False   for lunges angle less for backbone PLease kee...      0\n",
       "5           False                                angle less for legs      0\n",
       "6           False                                angle less for hand      0\n",
       "7           False  angle less for hand PLease keep your arms stra...      0\n",
       "8           False                                angle good for arms      0\n",
       "9           False  for bicepcurl angle less for neck PLease keep ...      0"
      ]
     },
     "execution_count": 4,
     "metadata": {},
     "output_type": "execute_result"
    }
   ],
   "source": [
    "\n",
    "df.head(10)"
   ]
  },
  {
   "cell_type": "code",
   "execution_count": 4,
   "metadata": {},
   "outputs": [
    {
     "data": {
      "text/html": [
       "<div>\n",
       "<style scoped>\n",
       "    .dataframe tbody tr th:only-of-type {\n",
       "        vertical-align: middle;\n",
       "    }\n",
       "\n",
       "    .dataframe tbody tr th {\n",
       "        vertical-align: top;\n",
       "    }\n",
       "\n",
       "    .dataframe thead th {\n",
       "        text-align: right;\n",
       "    }\n",
       "</style>\n",
       "<table border=\"1\" class=\"dataframe\">\n",
       "  <thead>\n",
       "    <tr style=\"text-align: right;\">\n",
       "      <th></th>\n",
       "      <th>IsFromCustomer</th>\n",
       "      <th>Text</th>\n",
       "      <th>index</th>\n",
       "    </tr>\n",
       "  </thead>\n",
       "  <tbody>\n",
       "    <tr>\n",
       "      <th>998</th>\n",
       "      <td>False</td>\n",
       "      <td>straighten arms upwards</td>\n",
       "      <td>0</td>\n",
       "    </tr>\n",
       "    <tr>\n",
       "      <th>999</th>\n",
       "      <td>False</td>\n",
       "      <td>align  upwards</td>\n",
       "      <td>0</td>\n",
       "    </tr>\n",
       "    <tr>\n",
       "      <th>1000</th>\n",
       "      <td>False</td>\n",
       "      <td>straighten hips sideways</td>\n",
       "      <td>0</td>\n",
       "    </tr>\n",
       "    <tr>\n",
       "      <th>1001</th>\n",
       "      <td>False</td>\n",
       "      <td>straighten knees sideways</td>\n",
       "      <td>0</td>\n",
       "    </tr>\n",
       "    <tr>\n",
       "      <th>1002</th>\n",
       "      <td>False</td>\n",
       "      <td>good well done</td>\n",
       "      <td>0</td>\n",
       "    </tr>\n",
       "  </tbody>\n",
       "</table>\n",
       "</div>"
      ],
      "text/plain": [
       "      IsFromCustomer                       Text  index\n",
       "998            False    straighten arms upwards      0\n",
       "999            False             align  upwards      0\n",
       "1000           False   straighten hips sideways      0\n",
       "1001           False  straighten knees sideways      0\n",
       "1002           False             good well done      0"
      ]
     },
     "execution_count": 4,
     "metadata": {},
     "output_type": "execute_result"
    }
   ],
   "source": [
    "df1=pd.read_csv('presentences3.csv')\n",
    "df1.tail()"
   ]
  },
  {
   "cell_type": "markdown",
   "metadata": {},
   "source": [
    "# Data Selection and Cleaning"
   ]
  },
  {
   "cell_type": "markdown",
   "metadata": {},
   "source": [
    "The data is going to separate the threads from the customer and the representative, separate the sentenses based on the punctuation (we will keep the punctuation), the final text will be cleaned up with some light regex and only the sentense larger than 1 word will be kept."
   ]
  },
  {
   "cell_type": "markdown",
   "metadata": {},
   "source": [
    "Finally, since the representative has the tendency to ask the same question over and over again, the autocomplete is extremely useful by suggesting a complete sentense. In our case, we will count the number of occurence of the same sentense so we can use it as a feature later on and delete the duplicates."
   ]
  },
  {
   "cell_type": "code",
   "execution_count": 5,
   "metadata": {},
   "outputs": [
    {
     "name": "stdout",
     "output_type": "stream",
     "text": [
      "select representative threads...\n",
      "split sentenses on punctuation...\n",
      "Text Cleaning using simple regex...\n",
      "calculate nb words of sentenses...\n",
      "count occurence of sentenses...\n",
      "remove duplicates (keep last)...\n",
      "(174, 5)\n"
     ]
    },
    {
     "data": {
      "text/plain": [
       "((174, 5),\n",
       " Index(['IsFromCustomer', 'Text', 'index', 'nb_words', 'Counts'], dtype='object'))"
      ]
     },
     "execution_count": 5,
     "metadata": {},
     "output_type": "execute_result"
    }
   ],
   "source": [
    "new_df = autocompl.process_data(df1)\n",
    "new_df.shape, new_df.columns"
   ]
  },
  {
   "cell_type": "markdown",
   "metadata": {},
   "source": [
    "# Model and TFIDF matrix"
   ]
  },
  {
   "cell_type": "markdown",
   "metadata": {},
   "source": [
    "A matrice of similarity is calculated based on the frequency of all the words in the data using tfidfvectorizer"
   ]
  },
  {
   "cell_type": "code",
   "execution_count": 6,
   "metadata": {},
   "outputs": [
    {
     "name": "stdout",
     "output_type": "stream",
     "text": [
      "tfidf_matrice  (174, 291)\n"
     ]
    }
   ],
   "source": [
    "model_tf, tfidf_matrice = autocompl.calc_matrice(new_df)"
   ]
  },
  {
   "cell_type": "markdown",
   "metadata": {},
   "source": [
    "# Ranking Function"
   ]
  },
  {
   "cell_type": "markdown",
   "metadata": {},
   "source": [
    "Finally, the autocomplete is calculating the similarity between the sentense in the data and the prefix of the sentense written by the representative. As a weight feature, we chose to reorder using the frequency of the most common similar sentense."
   ]
  },
  {
   "cell_type": "markdown",
   "metadata": {},
   "source": [
    "examples of auto completions"
   ]
  },
  {
   "cell_type": "code",
   "execution_count": null,
   "metadata": {},
   "outputs": [],
   "source": []
  },
  {
   "cell_type": "code",
   "execution_count": null,
   "metadata": {},
   "outputs": [],
   "source": []
  },
  {
   "cell_type": "code",
   "execution_count": null,
   "metadata": {},
   "outputs": [],
   "source": []
  },
  {
   "cell_type": "code",
   "execution_count": 9,
   "metadata": {},
   "outputs": [
    {
     "name": "stdout",
     "output_type": "stream",
     "text": [
      "hips straighten sideways      \n"
     ]
    },
    {
     "data": {
      "text/plain": [
       "'Straighten hips sideways'"
      ]
     },
     "execution_count": 9,
     "metadata": {},
     "output_type": "execute_result"
    }
   ],
   "source": [
    "prefix = newgen([160,\"hips\",\"sidekick\"])\n",
    "print(prefix,\"     \")\n",
    "autocompl.generate_completions(prefix, new_df, model_tf,tfidf_matrice)[0]"
   ]
  },
  {
   "cell_type": "markdown",
   "metadata": {},
   "source": [
    "Now, without any uppercase and just with the important words..."
   ]
  },
  {
   "cell_type": "code",
   "execution_count": 10,
   "metadata": {},
   "outputs": [
    {
     "name": "stdout",
     "output_type": "stream",
     "text": [
      "knees bend down      \n"
     ]
    },
    {
     "data": {
      "text/plain": [
       "['Bend knees down', 'Bend knees backwards', 'Bend knees upwards']"
      ]
     },
     "execution_count": 10,
     "metadata": {},
     "output_type": "execute_result"
    }
   ],
   "source": [
    "prefix = newgen([90,\"knees\",\"squat\"])\n",
    "print(prefix,\"     \")\n",
    "autocompl.generate_completions(prefix, new_df, model_tf,tfidf_matrice)"
   ]
  },
  {
   "cell_type": "code",
   "execution_count": null,
   "metadata": {},
   "outputs": [],
   "source": []
  },
  {
   "cell_type": "markdown",
   "metadata": {},
   "source": [
    "# Online Sources for this project"
   ]
  },
  {
   "cell_type": "code",
   "execution_count": 11,
   "metadata": {},
   "outputs": [],
   "source": [
    "# https://gist.github.com/jlln/338b4b0b55bd6984f883 modified to keep punctuation\n",
    "# kaggle google store competition for json read\n",
    "# https://www.kaggle.com/hamishdickson/weighted-word-autocomplete-using-star-wars-dataset"
   ]
  },
  {
   "cell_type": "code",
   "execution_count": null,
   "metadata": {},
   "outputs": [],
   "source": []
  },
  {
   "cell_type": "code",
   "execution_count": null,
   "metadata": {},
   "outputs": [],
   "source": []
  },
  {
   "cell_type": "code",
   "execution_count": 1,
   "metadata": {},
   "outputs": [],
   "source": [
    "excercise={\n",
    "    \n",
    "    \"squat\":{\n",
    "        \"hips\":\n",
    "    {\n",
    "    \"status\":1,    \n",
    "    \"key\":[\"bend\",\"straighten\"],\n",
    "    \"dir\":[\"down\",\"vertically\"],\n",
    "    \"angles\":[70,90]        \n",
    "    },\n",
    "    \"knees\":\n",
    "    {\n",
    "    \"status\":0,    \n",
    "    \"key\":[\"bend\",\"straighten\"],\n",
    "    \"dir\":[\"down\",\"vertically\"],\n",
    "    \"angles\":[20,70]        \n",
    "    }\n",
    "    \n",
    "    },\n",
    "    \"sidekick\":{\n",
    "        \"knees\":\n",
    "    {\n",
    "    \"status\":1,    \n",
    "    \"key\":[\"bend\",\"straighten\"],\n",
    "    \"dir\":[\"down\",\"sideways\"],\n",
    "    \"angles\":[170,180]        \n",
    "    }\n",
    "    \n",
    "    }\n",
    "}"
   ]
  },
  {
   "cell_type": "code",
   "execution_count": 10,
   "metadata": {},
   "outputs": [
    {
     "data": {
      "text/plain": [
       "['down', 'sideways']"
      ]
     },
     "execution_count": 10,
     "metadata": {},
     "output_type": "execute_result"
    }
   ],
   "source": [
    "excercise[\"sidekick\"][\"knees\"][\"dir\"]"
   ]
  },
  {
   "cell_type": "code",
   "execution_count": 8,
   "metadata": {},
   "outputs": [],
   "source": [
    "def newgen(data):\n",
    "    angle=data[0]\n",
    "    joint=data[1]\n",
    "    exc=data[2]\n",
    "    status=excercise[exc][joint][\"status\"]\n",
    "    if status==0:\n",
    "        if angle>excercise[exc][joint][\"angles\"][0]:\n",
    "            keywords=joint+\" \"+excercise[exc][joint][\"key\"][status]+\" \"+excercise[exc][joint][\"dir\"][status]\n",
    "        else:\n",
    "            keywords=\"good\"\n",
    "    else:\n",
    "        if angle<excercise[exc][joint][\"angles\"][1]:\n",
    "            keywords=joint+\" \"+excercise[exc][joint][\"key\"][status]+\" \"+excercise[exc][joint][\"dir\"][status]\n",
    "        else:\n",
    "            keywords=\"good\"\n",
    "\n",
    "            \n",
    "    return keywords\n",
    "    "
   ]
  },
  {
   "cell_type": "code",
   "execution_count": 12,
   "metadata": {},
   "outputs": [
    {
     "data": {
      "text/plain": [
       "'knees straighten sideways'"
      ]
     },
     "execution_count": 12,
     "metadata": {},
     "output_type": "execute_result"
    }
   ],
   "source": [
    "newgen([92,\"knees\",\"sidekick\"])"
   ]
  },
  {
   "cell_type": "code",
   "execution_count": null,
   "metadata": {},
   "outputs": [],
   "source": []
  }
 ],
 "metadata": {
  "kernelspec": {
   "display_name": "Python 3",
   "language": "python",
   "name": "python3"
  },
  "language_info": {
   "codemirror_mode": {
    "name": "ipython",
    "version": 3
   },
   "file_extension": ".py",
   "mimetype": "text/x-python",
   "name": "python",
   "nbconvert_exporter": "python",
   "pygments_lexer": "ipython3",
   "version": "3.9.5"
  }
 },
 "nbformat": 4,
 "nbformat_minor": 2
}
