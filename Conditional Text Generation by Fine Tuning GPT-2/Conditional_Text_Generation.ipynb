{
  "nbformat": 4,
  "nbformat_minor": 0,
  "metadata": {
    "colab": {
      "name": "Conditional Text Generation.ipynb",
      "provenance": [],
      "authorship_tag": "ABX9TyMnth8LbngNnd62OF4H0ck1",
      "include_colab_link": true
    },
    "kernelspec": {
      "name": "python3",
      "display_name": "Python 3"
    },
    "language_info": {
      "name": "python"
    }
  },
  "cells": [
    {
      "cell_type": "markdown",
      "metadata": {
        "id": "view-in-github",
        "colab_type": "text"
      },
      "source": [
        "<a href=\"https://colab.research.google.com/github/charithcherry/Text-completion-NLP/blob/master/Conditional%20Text%20Generation%20by%20Fine%20Tuning%20GPT-2/Conditional_Text_Generation.ipynb\" target=\"_parent\"><img src=\"https://colab.research.google.com/assets/colab-badge.svg\" alt=\"Open In Colab\"/></a>"
      ]
    },
    {
      "cell_type": "markdown",
      "metadata": {
        "id": "h4fMMIa3mQRc"
      },
      "source": [
        "**Finetuning GPT-2 Model**"
      ]
    },
    {
      "cell_type": "code",
      "metadata": {
        "id": "pxLbs8zWlixu"
      },
      "source": [
        "from google.colab import drive\n",
        "drive.mount(‘/content/drive’)\n",
        "%cd /content/drive/MyDrive/gpt2finetune/gpt-2"
      ],
      "execution_count": null,
      "outputs": []
    },
    {
      "cell_type": "code",
      "metadata": {
        "id": "pR9wx9dzli1N"
      },
      "source": [
        "!git clone https://github.com/nshepperd/gpt-2\n",
        "%cd gpt-2"
      ],
      "execution_count": null,
      "outputs": []
    },
    {
      "cell_type": "code",
      "metadata": {
        "id": "6qjb4_almoPJ"
      },
      "source": [
        "!python download_model.py 355M\n"
      ],
      "execution_count": null,
      "outputs": []
    },
    {
      "cell_type": "code",
      "metadata": {
        "id": "kSK40h_vl6cP"
      },
      "source": [
        "!pip install -r requirements.txt\n"
      ],
      "execution_count": null,
      "outputs": []
    },
    {
      "cell_type": "code",
      "metadata": {
        "id": "iNbl6WMSmfVy"
      },
      "source": [
        "!chmod 755 -R /content/drive/MyDrive/gpt2finetune/gpt-2\n"
      ],
      "execution_count": null,
      "outputs": []
    },
    {
      "cell_type": "code",
      "metadata": {
        "id": "kUXEFrcRmfZR"
      },
      "source": [
        "%cd /content/drive/MyDrive/Corpus\n",
        "!export PYTHONIOENCODING=UTF-8\n",
        "%cd /content/drive/MyDrive/gpt2finetune/gpt-2"
      ],
      "execution_count": null,
      "outputs": []
    },
    {
      "cell_type": "code",
      "metadata": {
        "id": "Gg453hYMm0Iv"
      },
      "source": [
        "!pip install tensorflow-gpu==1.15.0 \n",
        "!pip install ‘tensorflow-estimator<1.15.0rc0,>=1.14.0rc0’ — force-reinstall"
      ],
      "execution_count": null,
      "outputs": []
    },
    {
      "cell_type": "code",
      "metadata": {
        "id": "vu1yTW5FnKVR"
      },
      "source": [
        "!PYTHONPATH=src ./train.py — dataset /content/drive/MyDrive/Corpus/india.txt --model_name '345M'"
      ],
      "execution_count": null,
      "outputs": []
    },
    {
      "cell_type": "code",
      "metadata": {
        "id": "sWyIgvYFoPHd"
      },
      "source": [
        "!cp -r /content/gpt-2/checkpoint/run1/* /content/gpt-2/models/345M/"
      ],
      "execution_count": null,
      "outputs": []
    },
    {
      "cell_type": "code",
      "metadata": {
        "id": "wonSh4yhnOt-"
      },
      "source": [
        "!python src/interactive_conditional_samples.py — top_k 40\n"
      ],
      "execution_count": null,
      "outputs": []
    },
    {
      "cell_type": "code",
      "metadata": {
        "id": "IdOpenqWoYZA"
      },
      "source": [
        ""
      ],
      "execution_count": null,
      "outputs": []
    }
  ]
}